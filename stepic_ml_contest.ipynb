{
 "nbformat": 4,
 "nbformat_minor": 0,
 "metadata": {
  "colab": {
   "name": "Stepic_ML_competetion_2.ipynb",
   "provenance": [],
   "collapsed_sections": [
    "dm--p0TUSLM0",
    "6ivfntGRVx-j"
   ],
   "toc_visible": true,
   "authorship_tag": "ABX9TyNVz8Ur17tmEAJsKcKubXgB",
   "include_colab_link": true
  },
  "kernelspec": {
   "name": "python3",
   "display_name": "Python 3"
  },
  "language_info": {
   "name": "python"
  }
 },
 "cells": [
  {
   "cell_type": "markdown",
   "metadata": {
    "id": "dm--p0TUSLM0"
   },
   "source": [
    "# Описание данных"
   ]
  },
  {
   "cell_type": "markdown",
   "metadata": {
    "id": "fDYAg-zqRIt8"
   },
   "source": [
    "---\n",
    "\n",
    "\n",
    "[events_train.csv](https://stepik.org/media/attachments/course/4852/event_data_train.zip) - данные о действиях, которые совершают студенты со стэпами\n",
    "\n",
    "\n",
    "---\n",
    "\n",
    "\n",
    "* step_id - id стэпа\n",
    "* user_id - анонимизированный id юзера\n",
    "* timestamp - время наступления события в формате unix date\n",
    "* action - событие, возможные значения: \n",
    "  * discovered - пользователь перешел на стэп\n",
    "  * viewed - просмотр шага,\n",
    "  * started_attempt - начало попытки решить шаг, ранее нужно было явно нажать на кнопку - начать решение, перед тем как приступить к решению практического шага\n",
    "  * passed - удачное решение практического шага\n",
    "\n",
    "\n",
    "---\n",
    "\n",
    "\n",
    "[submissions_train.csv](https://stepik.org/media/attachments/course/4852/submissions_data_train.zip) - данные о времени и статусах сабмитов к практическим заданиям\n",
    "\n",
    "\n",
    "---\n",
    "\n",
    "\n",
    "* step_id - id стэпа\n",
    "* timestamp - время отправки решения в формате unix date\n",
    "* submission_status - статус решения\n",
    "* user_id - анонимизированный id юзера"
   ]
  },
  {
   "cell_type": "markdown",
   "metadata": {
    "id": "6ivfntGRVx-j"
   },
   "source": [
    "---\n",
    "\n",
    "# Imports and settings\n",
    "\n",
    "---"
   ]
  },
  {
   "cell_type": "code",
   "metadata": {
    "id": "BlLYrTQkV2na"
   },
   "source": [
    "import seaborn as sns\n",
    "from functions import *\n",
    "from sklearn.preprocessing import StandardScaler\n",
    "from sklearn.model_selection import train_test_split"
   ],
   "execution_count": 7,
   "outputs": []
  },
  {
   "cell_type": "code",
   "metadata": {
    "id": "dLX8U5euAwCT",
    "colab": {
     "base_uri": "https://localhost:8080/",
     "height": 0
    },
    "outputId": "dd863cfc-fe03-4b8b-e877-1bbef2a498bc"
   },
   "source": [
    "%matplotlib inline\n",
    "sns.set(font_scale=1.5)\n",
    "sns.set(rc={\"figure.figsize\": (20, 10)})"
   ],
   "execution_count": 8,
   "outputs": []
  },
  {
   "cell_type": "markdown",
   "source": [
    "---\n",
    "\n",
    "# Подготовка данных для обучения\n",
    "\n",
    "---\n",
    "По условию, мы должны предсказать используя данные за первые два дня."
   ],
   "metadata": {
    "collapsed": false
   }
  },
  {
   "cell_type": "code",
   "metadata": {
    "id": "TIqP1uKUmWtu"
   },
   "source": [
    "learning_time_treshold = 2 * 24 * 60 * 60 # 2 days in seconds"
   ],
   "execution_count": 9,
   "outputs": []
  },
  {
   "cell_type": "code",
   "metadata": {
    "id": "xhiPoCzASFoy"
   },
   "source": [
    "train_events_data = pd.read_csv(\"https://stepik.org/media/attachments/course/4852/event_data_train.zip\")"
   ],
   "execution_count": 10,
   "outputs": []
  },
  {
   "cell_type": "code",
   "metadata": {
    "id": "UYmlwyoGWpYD"
   },
   "source": [
    "train_submission_data = pd.read_csv(\"https://stepik.org/media/attachments/course/4852/submissions_data_train.zip\")"
   ],
   "execution_count": 11,
   "outputs": []
  },
  {
   "cell_type": "code",
   "metadata": {
    "id": "_W2gq24diB02"
   },
   "source": [
    "X, y = get_x_y_train(train_events_data, train_submission_data, learning_time_treshold)"
   ],
   "execution_count": 12,
   "outputs": []
  },
  {
   "cell_type": "markdown",
   "source": [
    "---\n",
    "\n",
    "# Подготовка данных для предсказания\n",
    "\n",
    "---"
   ],
   "metadata": {
    "collapsed": false
   }
  },
  {
   "cell_type": "code",
   "execution_count": 13,
   "outputs": [],
   "source": [
    "pred_events_data = pd.read_csv(\"https://stepik.org/media/attachments/course/4852/events_data_test.csv\")"
   ],
   "metadata": {
    "collapsed": false,
    "pycharm": {
     "name": "#%%\n"
    }
   }
  },
  {
   "cell_type": "code",
   "execution_count": 14,
   "outputs": [],
   "source": [
    "pred_submission_data = pd.read_csv(\"https://stepik.org/media/attachments/course/4852/submission_data_test.csv\")"
   ],
   "metadata": {
    "collapsed": false,
    "pycharm": {
     "name": "#%%\n"
    }
   }
  },
  {
   "cell_type": "code",
   "execution_count": 15,
   "outputs": [],
   "source": [
    "X_pred = get_x_pred(pred_events_data, pred_submission_data)"
   ],
   "metadata": {
    "collapsed": false,
    "pycharm": {
     "name": "#%%\n"
    }
   }
  },
  {
   "cell_type": "code",
   "execution_count": 16,
   "outputs": [],
   "source": [
    "X_train, X_test, y_train, y_test = train_test_split(X, y, test_size=0.3, random_state=42, stratify=y)"
   ],
   "metadata": {
    "collapsed": false,
    "pycharm": {
     "name": "#%%\n"
    }
   }
  },
  {
   "cell_type": "markdown",
   "source": [],
   "metadata": {
    "collapsed": false
   }
  },
  {
   "cell_type": "markdown",
   "source": [
    "---\n",
    "\n",
    "# Random Forest\n",
    "\n",
    "---"
   ],
   "metadata": {
    "collapsed": false
   }
  },
  {
   "cell_type": "code",
   "execution_count": 17,
   "outputs": [],
   "source": [
    "scaler = StandardScaler()"
   ],
   "metadata": {
    "collapsed": false,
    "pycharm": {
     "name": "#%%\n"
    }
   }
  },
  {
   "cell_type": "code",
   "execution_count": 18,
   "outputs": [],
   "source": [
    "pipe_rfc, train_score, test_score = random_forest_classifier(X_train, X_test, y_train, y_test, scaler)"
   ],
   "metadata": {
    "collapsed": false,
    "pycharm": {
     "name": "#%%\n"
    }
   }
  },
  {
   "cell_type": "code",
   "execution_count": 19,
   "outputs": [],
   "source": [
    "res_df = pd.DataFrame({\"Classifier\": [\"Random Forest\"], \"train_score\": [train_score], \"test_score\": [test_score]})"
   ],
   "metadata": {
    "collapsed": false,
    "pycharm": {
     "name": "#%%\n"
    }
   }
  },
  {
   "cell_type": "markdown",
   "metadata": {
    "id": "DSW2CidbLPXt"
   },
   "source": [
    "## Random Forest Feature Importance"
   ]
  },
  {
   "cell_type": "code",
   "metadata": {
    "colab": {
     "base_uri": "https://localhost:8080/",
     "height": 357
    },
    "id": "UbvnOJvyIaek",
    "outputId": "f8f30bf0-7197-4a0d-a90e-d234b6715c1e"
   },
   "source": [
    "feature_imp = pd.Series(pipe_rfc[1].best_estimator_.feature_importances_, index=X.columns).sort_values(ascending=False)\n",
    "fi_df = pd.DataFrame(feature_imp, columns=[\"importance\"]).reset_index()\n",
    "fi_df = fi_df.rename(columns={\"index\": \"feature\"})"
   ],
   "execution_count": 20,
   "outputs": []
  },
  {
   "cell_type": "code",
   "metadata": {
    "colab": {
     "base_uri": "https://localhost:8080/",
     "height": 394
    },
    "id": "mtnugTDXIpt2",
    "outputId": "170ca142-9cc3-4eea-a8ac-ea98aa66308a"
   },
   "source": [
    "sns.barplot(x=feature_imp, y=feature_imp.index)"
   ],
   "execution_count": 21,
   "outputs": [
    {
     "data": {
      "text/plain": "<AxesSubplot:>"
     },
     "execution_count": 21,
     "metadata": {},
     "output_type": "execute_result"
    },
    {
     "data": {
      "text/plain": "<Figure size 1440x720 with 1 Axes>",
      "image/png": "[encoded data removed]"
     },
     "metadata": {},
     "output_type": "display_data"
    }
   ]
  },
  {
   "cell_type": "markdown",
   "source": [
    "---\n",
    "\n",
    "# Logistic Regression\n",
    "\n",
    "---"
   ],
   "metadata": {
    "collapsed": false
   }
  },
  {
   "cell_type": "code",
   "execution_count": 22,
   "outputs": [
    {
     "name": "stderr",
     "output_type": "stream",
     "text": [
      "c:\\users\\ilya\\appdata\\local\\programs\\python\\python38-32\\lib\\site-packages\\sklearn\\model_selection\\_search.py:922: UserWarning: One or more of the test scores are non-finite: [0.83281788        nan 0.83285482 0.8300498  0.83282178        nan\n",
      " 0.83522899 0.83285572        nan 0.83296131]\n",
      "  warnings.warn(\n"
     ]
    }
   ],
   "source": [
    "pipe_lrc, train_score, test_score = linear_regression_classifier(X_train, X_test, y_train, y_test, scaler)"
   ],
   "metadata": {
    "collapsed": false,
    "pycharm": {
     "name": "#%%\n"
    }
   }
  },
  {
   "cell_type": "code",
   "execution_count": 23,
   "outputs": [],
   "source": [
    "res_df = res_df.append({\"Classifier\": \"Logistic Regression\",\n",
    "                        \"train_score\": train_score, \"test_score\": test_score}, ignore_index=True)"
   ],
   "metadata": {
    "collapsed": false,
    "pycharm": {
     "name": "#%%\n"
    }
   }
  },
  {
   "cell_type": "markdown",
   "source": [
    "---\n",
    "\n",
    "# Naive Bayes\n",
    "\n",
    "---"
   ],
   "metadata": {
    "collapsed": false
   }
  },
  {
   "cell_type": "code",
   "execution_count": 24,
   "outputs": [],
   "source": [
    "pipe_nbc, train_score, test_score = naive_bayes_classifier(X_train, X_test, y_train, y_test, scaler)"
   ],
   "metadata": {
    "collapsed": false,
    "pycharm": {
     "name": "#%%\n"
    }
   }
  },
  {
   "cell_type": "code",
   "execution_count": 25,
   "outputs": [],
   "source": [
    "res_df = res_df.append({\"Classifier\": \"Naive Bayes\",\n",
    "                        \"train_score\": train_score, \"test_score\": test_score}, ignore_index=True)"
   ],
   "metadata": {
    "collapsed": false,
    "pycharm": {
     "name": "#%%\n"
    }
   }
  },
  {
   "cell_type": "markdown",
   "source": [
    "---\n",
    "\n",
    "# Decision Tree\n",
    "\n",
    "---"
   ],
   "metadata": {
    "collapsed": false
   }
  },
  {
   "cell_type": "code",
   "execution_count": 26,
   "outputs": [],
   "source": [
    "pipe_dtc, train_score, test_score = decision_tree_classifier(X_train, X_test, y_train, y_test, scaler)"
   ],
   "metadata": {
    "collapsed": false,
    "pycharm": {
     "name": "#%%\n"
    }
   }
  },
  {
   "cell_type": "code",
   "execution_count": 27,
   "outputs": [],
   "source": [
    "res_df = res_df.append({\"Classifier\": \"Decision Tree\",\n",
    "                        \"train_score\": train_score, \"test_score\": test_score}, ignore_index=True)"
   ],
   "metadata": {
    "collapsed": false,
    "pycharm": {
     "name": "#%%\n"
    }
   }
  },
  {
   "cell_type": "markdown",
   "source": [
    "---\n",
    "\n",
    "# Gradient Boosting\n",
    "\n",
    "---"
   ],
   "metadata": {
    "collapsed": false
   }
  },
  {
   "cell_type": "code",
   "execution_count": 28,
   "outputs": [],
   "source": [
    "pipe_gbc, train_score, test_score = gradient_boosting_classifier(X_train, X_test, y_train, y_test, scaler)"
   ],
   "metadata": {
    "collapsed": false,
    "pycharm": {
     "name": "#%%\n"
    }
   }
  },
  {
   "cell_type": "code",
   "execution_count": 29,
   "outputs": [],
   "source": [
    "res_df = res_df.append({\"Classifier\": \"Gradient Boosting\",\n",
    "                        \"train_score\": train_score, \"test_score\": test_score}, ignore_index=True)"
   ],
   "metadata": {
    "collapsed": false,
    "pycharm": {
     "name": "#%%\n"
    }
   }
  },
  {
   "cell_type": "markdown",
   "source": [
    "---\n",
    "\n",
    "# Neural Network\n",
    "\n",
    "---"
   ],
   "metadata": {
    "collapsed": false
   }
  },
  {
   "cell_type": "code",
   "execution_count": 30,
   "outputs": [],
   "source": [
    "pipe_nnc, train_score, test_score = neural_network_classifier(X_train, X_test, y_train, y_test, scaler)"
   ],
   "metadata": {
    "collapsed": false,
    "pycharm": {
     "name": "#%%\n"
    }
   }
  },
  {
   "cell_type": "code",
   "execution_count": 31,
   "outputs": [],
   "source": [
    "res_df = res_df.append({\"Classifier\": \"Neural Network\",\n",
    "                        \"train_score\": train_score, \"test_score\": test_score}, ignore_index=True)"
   ],
   "metadata": {
    "collapsed": false,
    "pycharm": {
     "name": "#%%\n"
    }
   }
  },
  {
   "cell_type": "markdown",
   "source": [
    "---\n",
    "\n",
    "# Predictions\n",
    "\n",
    "---"
   ],
   "metadata": {
    "collapsed": false
   }
  },
  {
   "cell_type": "code",
   "execution_count": 32,
   "outputs": [
    {
     "data": {
      "text/plain": "            Classifier  train_score  test_score\n4    Gradient Boosting     0.869827    0.864423\n0        Random Forest     0.905171    0.862026\n5       Neural Network     0.857932    0.852631\n1  Logistic Regression     0.837315    0.848201\n3        Decision Tree     0.856938    0.845104\n2          Naive Bayes     0.818510    0.826007",
      "text/html": "<div>\n<style scoped>\n    .dataframe tbody tr th:only-of-type {\n        vertical-align: middle;\n    }\n\n    .dataframe tbody tr th {\n        vertical-align: top;\n    }\n\n    .dataframe thead th {\n        text-align: right;\n    }\n</style>\n<table border=\"1\" class=\"dataframe\">\n  <thead>\n    <tr style=\"text-align: right;\">\n      <th></th>\n      <th>Classifier</th>\n      <th>train_score</th>\n      <th>test_score</th>\n    </tr>\n  </thead>\n  <tbody>\n    <tr>\n      <th>4</th>\n      <td>Gradient Boosting</td>\n      <td>0.869827</td>\n      <td>0.864423</td>\n    </tr>\n    <tr>\n      <th>0</th>\n      <td>Random Forest</td>\n      <td>0.905171</td>\n      <td>0.862026</td>\n    </tr>\n    <tr>\n      <th>5</th>\n      <td>Neural Network</td>\n      <td>0.857932</td>\n      <td>0.852631</td>\n    </tr>\n    <tr>\n      <th>1</th>\n      <td>Logistic Regression</td>\n      <td>0.837315</td>\n      <td>0.848201</td>\n    </tr>\n    <tr>\n      <th>3</th>\n      <td>Decision Tree</td>\n      <td>0.856938</td>\n      <td>0.845104</td>\n    </tr>\n    <tr>\n      <th>2</th>\n      <td>Naive Bayes</td>\n      <td>0.818510</td>\n      <td>0.826007</td>\n    </tr>\n  </tbody>\n</table>\n</div>"
     },
     "execution_count": 32,
     "metadata": {},
     "output_type": "execute_result"
    }
   ],
   "source": [
    "res_df.sort_values(\"test_score\", ascending=False)"
   ],
   "metadata": {
    "collapsed": false,
    "pycharm": {
     "name": "#%%\n"
    }
   }
  },
  {
   "cell_type": "code",
   "execution_count": 33,
   "outputs": [],
   "source": [
    "pipes = [pipe_gbc, pipe_rfc, pipe_lrc, pipe_nnc, pipe_dtc, pipe_nbc]\n",
    "labels = [\"pipe_gbc\", \"pipe_rfc\", \"pipe_lrc\", \"pipe_nnc\", \"pipe_dtc\", \"pipe_nbc\"]"
   ],
   "metadata": {
    "collapsed": false,
    "pycharm": {
     "name": "#%%\n"
    }
   }
  },
  {
   "cell_type": "code",
   "execution_count": 34,
   "outputs": [],
   "source": [
    "for i in range(len(pipes)):\n",
    "  y_pred = pipes[i].predict_proba(X_pred)\n",
    "  save_df = pd.DataFrame({\"user_id\": X_pred.index, \"is_gone\": y_pred[:, 1]})\n",
    "  save_df.to_csv(\"results/\" + labels[i] + \".csv\", index=False)"
   ],
   "metadata": {
    "collapsed": false,
    "pycharm": {
     "name": "#%%\n"
    }
   }
  },
  {
   "cell_type": "markdown",
   "source": [
    "Stepic testing\n",
    "* Gradient Boosting - 0.887\n",
    "* Linear Regression - 0.877\n",
    "* Naive Bayes - 0.869\n",
    "* Random Forest - 0.866\n",
    "* Decision Tree - 0.819\n",
    "* Neural Network - 0.776\n",
    "\n",
    "Лучший достигнутый результат (0.887) получен при использовании Gradient Boosting (Top 20)."
   ],
   "metadata": {
    "collapsed": false,
    "pycharm": {
     "name": "#%% md\n"
    }
   }
  }
 ]
}